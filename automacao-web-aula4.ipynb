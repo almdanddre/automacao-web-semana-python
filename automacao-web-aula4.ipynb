{
 "cells": [
  {
   "cell_type": "markdown",
   "metadata": {},
   "source": [
    "# Automação Web e Busca de Informações com Python\n",
    "\n",
    "#### Desafio: \n",
    "\n",
    "Trabalhamos em uma importadora e o preço dos nossos produtos é vinculado a cotação de:\n",
    "- Dólar\n",
    "- Euro\n",
    "- Ouro\n",
    "\n",
    "Precisamos pegar na internet, de forma automática, a cotação desses 3 itens e saber quanto devemos cobrar pelos nossos produtos, considerando uma margem de contribuição que temos na nossa base de dados.\n",
    "\n",
    "Base de Dados: https://drive.google.com/drive/folders/1QHOQt1J7d5Z4sBFKL9GN699OcPh2aVaP?usp=sharing\n",
    "\n",
    "Para isso, vamos criar uma automação web:\n",
    "\n",
    "- Usaremos o selenium\n",
    "- Importante: baixar o webdriver correspondente ao navegador que está sendo utilizado e colar o arquivo .exe na pasta do anaconda"
   ]
  },
  {
   "cell_type": "markdown",
   "metadata": {},
   "source": [
    "- Diferenças entre pyautogui e selenium\n",
    "\n",
    "- pyautogui -> automatizar mouse, teclado e tela\n",
    "    - são automações que impedem que você utilize o computador\n",
    "    - funciona em qualquer ferramenta, sistema ou programa\n",
    "    - caso a tela mude, o pyautogui para de funcionar\n",
    "- selenium -> automatizar a web/internet\n",
    "    - só funciona para a internet\n",
    "    - funciona mesmo com outra ação sendo executada no computador\n",
    "    - funciona mesmo que a posição dos elementos da tela mude"
   ]
  },
  {
   "cell_type": "code",
   "execution_count": 17,
   "metadata": {},
   "outputs": [],
   "source": [
    "from selenium import webdriver\n",
    "from selenium.webdriver.common.keys import Keys\n",
    "\n",
    "# para rodar o chrome em 2º plano\n",
    "# from selenium.webdriver.chrome.options import Options\n",
    "# chrome_options = Options()\n",
    "# chrome_options.headless = True # also works\n",
    "# nav = webdriver.Chrome(options=chrome_options)\n",
    "\n",
    "nav = webdriver.Chrome() # abre um novo navegador"
   ]
  },
  {
   "cell_type": "code",
   "execution_count": 18,
   "metadata": {},
   "outputs": [
    {
     "name": "stdout",
     "output_type": "stream",
     "text": [
      "5.438566\n"
     ]
    }
   ],
   "source": [
    "# pesquisar cotação dolar\n",
    "nav.get(\"https://www.google.com/\") # digita endereço na barra\n",
    "nav.find_element_by_xpath('/html/body/div[1]/div[3]/form/div[1]/div[1]/div[1]/div/div[2]/input').send_keys(\"cotação dólar\") # escreve um texto no campo de busca do google - acesso ao campo por meio do 'Inspecionar', em seguida 'Copy XPath' \n",
    "nav.find_element_by_xpath('/html/body/div[1]/div[3]/form/div[1]/div[1]/div[1]/div/div[2]/input').send_keys(Keys.ENTER) # tecla enter\n",
    "cotacao_dolar = nav.find_element_by_xpath('//*[@id=\"knowledge-currency__updatable-data-column\"]/div[1]/div[2]/span[1]').get_attribute('data-value')  # obter cotação do dólar\n",
    "print(cotacao_dolar)"
   ]
  },
  {
   "cell_type": "code",
   "execution_count": 19,
   "metadata": {},
   "outputs": [
    {
     "name": "stdout",
     "output_type": "stream",
     "text": [
      "6.537129139\n"
     ]
    }
   ],
   "source": [
    "# pesquisar cotação dolar\n",
    "nav.get(\"https://www.google.com/\")\n",
    "nav.find_element_by_xpath('/html/body/div[1]/div[3]/form/div[1]/div[1]/div[1]/div/div[2]/input').send_keys(\"cotação euro\")\n",
    "nav.find_element_by_xpath('/html/body/div[1]/div[3]/form/div[1]/div[1]/div[1]/div/div[2]/input').send_keys(Keys.ENTER)\n",
    "cotacao_euro = nav.find_element_by_xpath('//*[@id=\"knowledge-currency__updatable-data-column\"]/div[1]/div[2]/span[1]').get_attribute('data-value')  # obter cotação do euro\n",
    "print(cotacao_euro)"
   ]
  },
  {
   "cell_type": "code",
   "execution_count": 20,
   "metadata": {},
   "outputs": [
    {
     "name": "stdout",
     "output_type": "stream",
     "text": [
      "309.14\n"
     ]
    }
   ],
   "source": [
    "# pesquisar cotação do ouro\n",
    "nav.get(\"https://www.melhorcambio.com/\") # digita endereço na barra\n",
    "aba_original = nav.window_handles[0]\n",
    "nav.find_element_by_xpath('//*[@id=\"commodity-hoje\"]/tbody/tr[2]/td[2]/a/img').click() # clica no ícone da cotação do ouro\n",
    "aba_nova = nav.window_handles[1]\n",
    "nav.switch_to.window(aba_nova) \n",
    "cotacao_ouro = nav.find_element_by_id('comercial').get_attribute('value') # obter cotação do ouro\n",
    "cotacao_ouro = cotacao_ouro.replace(\",\", \".\")\n",
    "print(cotacao_ouro)"
   ]
  },
  {
   "cell_type": "markdown",
   "metadata": {},
   "source": [
    "### Agora vamos atualizar a nossa base de preços com as novas cotações"
   ]
  },
  {
   "cell_type": "markdown",
   "metadata": {},
   "source": [
    "- Importando a base de dados"
   ]
  },
  {
   "cell_type": "code",
   "execution_count": 21,
   "metadata": {
    "scrolled": true
   },
   "outputs": [
    {
     "data": {
      "text/html": [
       "<div>\n",
       "<style scoped>\n",
       "    .dataframe tbody tr th:only-of-type {\n",
       "        vertical-align: middle;\n",
       "    }\n",
       "\n",
       "    .dataframe tbody tr th {\n",
       "        vertical-align: top;\n",
       "    }\n",
       "\n",
       "    .dataframe thead th {\n",
       "        text-align: right;\n",
       "    }\n",
       "</style>\n",
       "<table border=\"1\" class=\"dataframe\">\n",
       "  <thead>\n",
       "    <tr style=\"text-align: right;\">\n",
       "      <th></th>\n",
       "      <th>Produtos</th>\n",
       "      <th>Preço Base Original</th>\n",
       "      <th>Moeda</th>\n",
       "      <th>Cotação</th>\n",
       "      <th>Preço Base Reais</th>\n",
       "      <th>Ajuste</th>\n",
       "      <th>Preço Final</th>\n",
       "    </tr>\n",
       "  </thead>\n",
       "  <tbody>\n",
       "    <tr>\n",
       "      <th>0</th>\n",
       "      <td>Câmera Canon</td>\n",
       "      <td>999.99</td>\n",
       "      <td>Dólar</td>\n",
       "      <td>5</td>\n",
       "      <td>4999.95</td>\n",
       "      <td>1.40</td>\n",
       "      <td>6999.930</td>\n",
       "    </tr>\n",
       "    <tr>\n",
       "      <th>1</th>\n",
       "      <td>Carro Renault</td>\n",
       "      <td>4500.00</td>\n",
       "      <td>Euro</td>\n",
       "      <td>6</td>\n",
       "      <td>27000.00</td>\n",
       "      <td>2.00</td>\n",
       "      <td>54000.000</td>\n",
       "    </tr>\n",
       "    <tr>\n",
       "      <th>2</th>\n",
       "      <td>Notebook Dell</td>\n",
       "      <td>899.99</td>\n",
       "      <td>Dólar</td>\n",
       "      <td>5</td>\n",
       "      <td>4499.95</td>\n",
       "      <td>1.70</td>\n",
       "      <td>7649.915</td>\n",
       "    </tr>\n",
       "    <tr>\n",
       "      <th>3</th>\n",
       "      <td>IPhone</td>\n",
       "      <td>799.00</td>\n",
       "      <td>Dólar</td>\n",
       "      <td>5</td>\n",
       "      <td>3995.00</td>\n",
       "      <td>1.70</td>\n",
       "      <td>6791.500</td>\n",
       "    </tr>\n",
       "    <tr>\n",
       "      <th>4</th>\n",
       "      <td>Carro Fiat</td>\n",
       "      <td>3000.00</td>\n",
       "      <td>Euro</td>\n",
       "      <td>6</td>\n",
       "      <td>18000.00</td>\n",
       "      <td>1.90</td>\n",
       "      <td>34200.000</td>\n",
       "    </tr>\n",
       "    <tr>\n",
       "      <th>5</th>\n",
       "      <td>Celular Xiaomi</td>\n",
       "      <td>480.48</td>\n",
       "      <td>Dólar</td>\n",
       "      <td>5</td>\n",
       "      <td>2402.40</td>\n",
       "      <td>2.00</td>\n",
       "      <td>4804.800</td>\n",
       "    </tr>\n",
       "    <tr>\n",
       "      <th>6</th>\n",
       "      <td>Joia 20g</td>\n",
       "      <td>20.00</td>\n",
       "      <td>Ouro</td>\n",
       "      <td>350</td>\n",
       "      <td>7000.00</td>\n",
       "      <td>1.15</td>\n",
       "      <td>8050.000</td>\n",
       "    </tr>\n",
       "  </tbody>\n",
       "</table>\n",
       "</div>"
      ],
      "text/plain": [
       "         Produtos  Preço Base Original  Moeda  Cotação  Preço Base Reais  \\\n",
       "0    Câmera Canon               999.99  Dólar        5           4999.95   \n",
       "1   Carro Renault              4500.00   Euro        6          27000.00   \n",
       "2   Notebook Dell               899.99  Dólar        5           4499.95   \n",
       "3          IPhone               799.00  Dólar        5           3995.00   \n",
       "4      Carro Fiat              3000.00   Euro        6          18000.00   \n",
       "5  Celular Xiaomi               480.48  Dólar        5           2402.40   \n",
       "6        Joia 20g                20.00   Ouro      350           7000.00   \n",
       "\n",
       "   Ajuste  Preço Final  \n",
       "0    1.40     6999.930  \n",
       "1    2.00    54000.000  \n",
       "2    1.70     7649.915  \n",
       "3    1.70     6791.500  \n",
       "4    1.90    34200.000  \n",
       "5    2.00     4804.800  \n",
       "6    1.15     8050.000  "
      ]
     },
     "metadata": {},
     "output_type": "display_data"
    }
   ],
   "source": [
    "import pandas as pd\n",
    "\n",
    "tabela_produtos = pd.read_excel(\"Produtos.xlsx\")\n",
    "display(tabela_produtos)"
   ]
  },
  {
   "cell_type": "markdown",
   "metadata": {},
   "source": [
    "- Atualizando os preços e o cálculo do Preço Final"
   ]
  },
  {
   "cell_type": "code",
   "execution_count": 22,
   "metadata": {},
   "outputs": [
    {
     "data": {
      "text/html": [
       "<div>\n",
       "<style scoped>\n",
       "    .dataframe tbody tr th:only-of-type {\n",
       "        vertical-align: middle;\n",
       "    }\n",
       "\n",
       "    .dataframe tbody tr th {\n",
       "        vertical-align: top;\n",
       "    }\n",
       "\n",
       "    .dataframe thead th {\n",
       "        text-align: right;\n",
       "    }\n",
       "</style>\n",
       "<table border=\"1\" class=\"dataframe\">\n",
       "  <thead>\n",
       "    <tr style=\"text-align: right;\">\n",
       "      <th></th>\n",
       "      <th>Produtos</th>\n",
       "      <th>Preço Base Original</th>\n",
       "      <th>Moeda</th>\n",
       "      <th>Cotação</th>\n",
       "      <th>Preço Base Reais</th>\n",
       "      <th>Ajuste</th>\n",
       "      <th>Preço Final</th>\n",
       "    </tr>\n",
       "  </thead>\n",
       "  <tbody>\n",
       "    <tr>\n",
       "      <th>0</th>\n",
       "      <td>Câmera Canon</td>\n",
       "      <td>999.99</td>\n",
       "      <td>Dólar</td>\n",
       "      <td>5.438566</td>\n",
       "      <td>5438.511614</td>\n",
       "      <td>1.40</td>\n",
       "      <td>7613.916260</td>\n",
       "    </tr>\n",
       "    <tr>\n",
       "      <th>1</th>\n",
       "      <td>Carro Renault</td>\n",
       "      <td>4500.00</td>\n",
       "      <td>Euro</td>\n",
       "      <td>6.537129</td>\n",
       "      <td>29417.081126</td>\n",
       "      <td>2.00</td>\n",
       "      <td>58834.162251</td>\n",
       "    </tr>\n",
       "    <tr>\n",
       "      <th>2</th>\n",
       "      <td>Notebook Dell</td>\n",
       "      <td>899.99</td>\n",
       "      <td>Dólar</td>\n",
       "      <td>5.438566</td>\n",
       "      <td>4894.655014</td>\n",
       "      <td>1.70</td>\n",
       "      <td>8320.913524</td>\n",
       "    </tr>\n",
       "    <tr>\n",
       "      <th>3</th>\n",
       "      <td>IPhone</td>\n",
       "      <td>799.00</td>\n",
       "      <td>Dólar</td>\n",
       "      <td>5.438566</td>\n",
       "      <td>4345.414234</td>\n",
       "      <td>1.70</td>\n",
       "      <td>7387.204198</td>\n",
       "    </tr>\n",
       "    <tr>\n",
       "      <th>4</th>\n",
       "      <td>Carro Fiat</td>\n",
       "      <td>3000.00</td>\n",
       "      <td>Euro</td>\n",
       "      <td>6.537129</td>\n",
       "      <td>19611.387417</td>\n",
       "      <td>1.90</td>\n",
       "      <td>37261.636092</td>\n",
       "    </tr>\n",
       "    <tr>\n",
       "      <th>5</th>\n",
       "      <td>Celular Xiaomi</td>\n",
       "      <td>480.48</td>\n",
       "      <td>Dólar</td>\n",
       "      <td>5.438566</td>\n",
       "      <td>2613.122192</td>\n",
       "      <td>2.00</td>\n",
       "      <td>5226.244383</td>\n",
       "    </tr>\n",
       "    <tr>\n",
       "      <th>6</th>\n",
       "      <td>Joia 20g</td>\n",
       "      <td>20.00</td>\n",
       "      <td>Ouro</td>\n",
       "      <td>309.140000</td>\n",
       "      <td>6182.800000</td>\n",
       "      <td>1.15</td>\n",
       "      <td>7110.220000</td>\n",
       "    </tr>\n",
       "  </tbody>\n",
       "</table>\n",
       "</div>"
      ],
      "text/plain": [
       "         Produtos  Preço Base Original  Moeda     Cotação  Preço Base Reais  \\\n",
       "0    Câmera Canon               999.99  Dólar    5.438566       5438.511614   \n",
       "1   Carro Renault              4500.00   Euro    6.537129      29417.081126   \n",
       "2   Notebook Dell               899.99  Dólar    5.438566       4894.655014   \n",
       "3          IPhone               799.00  Dólar    5.438566       4345.414234   \n",
       "4      Carro Fiat              3000.00   Euro    6.537129      19611.387417   \n",
       "5  Celular Xiaomi               480.48  Dólar    5.438566       2613.122192   \n",
       "6        Joia 20g                20.00   Ouro  309.140000       6182.800000   \n",
       "\n",
       "   Ajuste   Preço Final  \n",
       "0    1.40   7613.916260  \n",
       "1    2.00  58834.162251  \n",
       "2    1.70   8320.913524  \n",
       "3    1.70   7387.204198  \n",
       "4    1.90  37261.636092  \n",
       "5    2.00   5226.244383  \n",
       "6    1.15   7110.220000  "
      ]
     },
     "metadata": {},
     "output_type": "display_data"
    }
   ],
   "source": [
    "# atualiza os valores das cotações na tabela\n",
    "tabela_produtos.loc[tabela_produtos['Moeda']==\"Dólar\", \"Cotação\"] = float(cotacao_dolar)\n",
    "tabela_produtos.loc[tabela_produtos['Moeda']==\"Euro\", \"Cotação\"] = float(cotacao_euro)\n",
    "tabela_produtos.loc[tabela_produtos['Moeda']==\"Ouro\", \"Cotação\"] = float(cotacao_ouro)\n",
    "\n",
    "tabela_produtos['Preço Base Reais'] = tabela_produtos['Cotação'] * tabela_produtos['Preço Base Original'] # atualiza a coluna do preço base real com base nas novas cotações\n",
    "tabela_produtos['Preço Final'] = tabela_produtos['Ajuste'] * tabela_produtos['Preço Base Reais'] # atualiza o preço final\n",
    "# tabela_produtos[\"Preço Final\"] = tabela_produtos[\"Preço Final\"].map(\"{:.2f}\".format) -> para melhorar a formatação dos valores\n",
    "display(tabela_produtos)"
   ]
  },
  {
   "cell_type": "markdown",
   "metadata": {},
   "source": [
    "### Agora vamos exportar a nova base de preços atualizada"
   ]
  },
  {
   "cell_type": "code",
   "execution_count": 23,
   "metadata": {},
   "outputs": [],
   "source": [
    "tabela_produtos.to_excel(\"Produtos Atualizados.xlsx\", index = False) # index = false -> excluir os índices novos (opcional)"
   ]
  }
 ],
 "metadata": {
  "kernelspec": {
   "display_name": "Python 3",
   "language": "python",
   "name": "python3"
  },
  "language_info": {
   "codemirror_mode": {
    "name": "ipython",
    "version": 3
   },
   "file_extension": ".py",
   "mimetype": "text/x-python",
   "name": "python",
   "nbconvert_exporter": "python",
   "pygments_lexer": "ipython3",
   "version": "3.8.5"
  }
 },
 "nbformat": 4,
 "nbformat_minor": 4
}
